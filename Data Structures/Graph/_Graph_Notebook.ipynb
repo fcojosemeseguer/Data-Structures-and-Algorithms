{
 "cells": [
  {
   "cell_type": "markdown",
   "metadata": {},
   "source": [
    "# Depth First Search (DFS)"
   ]
  },
  {
   "cell_type": "markdown",
   "metadata": {},
   "source": [
    "Aplications:\n",
    "- Cycle Detection\n",
    "- Finding Connected Components\n",
    "- Topological Sort\n",
    "- Maze Generation"
   ]
  },
  {
   "cell_type": "code",
   "execution_count": null,
   "metadata": {},
   "outputs": [],
   "source": [
    "# Recursive implementation\n",
    "# Preorder\n",
    "marked = [False] * G.size()\n",
    "def dfs_pre(G, v):\n",
    "    visit(v)\n",
    "    marked[v] = True\n",
    "    for w in G.adj(v):\n",
    "        if not marked[w]:\n",
    "            dfs_pre(G, w)\n"
   ]
  },
  {
   "cell_type": "code",
   "execution_count": null,
   "metadata": {},
   "outputs": [],
   "source": [
    "# Recursive implementation\n",
    "# Postorder\n",
    "marked = [False] * G.size()\n",
    "def dfs_post(G, v):\n",
    "    marked[v] = True\n",
    "    for w in G.adj(v):\n",
    "        if not marked[w]:\n",
    "            dfs(G, w)\n",
    "    visit(v)\n"
   ]
  },
  {
   "cell_type": "code",
   "execution_count": null,
   "metadata": {},
   "outputs": [],
   "source": [
    "# Iterative implementation\n",
    "marked = [False] * G.size()\n",
    "def dfs_iterative(G, v):\n",
    "    S = [v]\n",
    "    while S:\n",
    "        v = S.pop()\n",
    "        if not marked[v]:\n",
    "            marked[v] = True\n",
    "            for w in G.adj(v):\n",
    "                S.append(w)"
   ]
  }
 ],
 "metadata": {
  "kernelspec": {
   "display_name": "MyEnvironment",
   "language": "python",
   "name": "python3"
  },
  "language_info": {
   "codemirror_mode": {
    "name": "ipython",
    "version": 3
   },
   "file_extension": ".py",
   "mimetype": "text/x-python",
   "name": "python",
   "nbconvert_exporter": "python",
   "pygments_lexer": "ipython3",
   "version": "3.11.11"
  }
 },
 "nbformat": 4,
 "nbformat_minor": 2
}
