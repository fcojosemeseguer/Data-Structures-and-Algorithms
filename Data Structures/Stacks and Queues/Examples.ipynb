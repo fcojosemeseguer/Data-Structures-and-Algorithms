{
 "cells": [
  {
   "cell_type": "markdown",
   "metadata": {},
   "source": [
    "# Stack (LIFO)"
   ]
  },
  {
   "cell_type": "code",
   "execution_count": 1,
   "metadata": {},
   "outputs": [],
   "source": [
    "from stack_ import Stack"
   ]
  },
  {
   "cell_type": "code",
   "execution_count": 2,
   "metadata": {},
   "outputs": [
    {
     "name": "stdout",
     "output_type": "stream",
     "text": [
      "Stack:\t 0 1 2 3 4 5 \n",
      "5\n",
      "4\n",
      "3\n",
      "Stack:\t 0 1 2 \n"
     ]
    }
   ],
   "source": [
    "S = Stack(0)\n",
    "S.insert_end(1)\n",
    "S.insert_end(2)\n",
    "S.insert_end(3)\n",
    "S.insert_end(4)\n",
    "S.insert_end(5)\n",
    "\n",
    "S.display()\n",
    "\n",
    "print(S.del_end())\n",
    "print(S.del_end())\n",
    "print(S.del_end())\n",
    "\n",
    "S.display()"
   ]
  },
  {
   "cell_type": "markdown",
   "metadata": {},
   "source": [
    "# Queue (FIFO)"
   ]
  },
  {
   "cell_type": "code",
   "execution_count": 3,
   "metadata": {},
   "outputs": [],
   "source": [
    "from queue_ import Queue"
   ]
  },
  {
   "cell_type": "code",
   "execution_count": 4,
   "metadata": {},
   "outputs": [
    {
     "name": "stdout",
     "output_type": "stream",
     "text": [
      "Queue:\t 0 1 2 3 4 5 \n",
      "0\n",
      "1\n",
      "2\n",
      "Queue:\t 3 4 5 \n"
     ]
    }
   ],
   "source": [
    "Q = Queue(0)\n",
    "Q.insert_end(1)\n",
    "Q.insert_end(2)\n",
    "Q.insert_end(3)\n",
    "Q.insert_end(4)\n",
    "Q.insert_end(5)\n",
    "\n",
    "Q.display()\n",
    "\n",
    "print(Q.del_beginning())\n",
    "print(Q.del_beginning())    \n",
    "print(Q.del_beginning())\n",
    "\n",
    "Q.display()"
   ]
  }
 ],
 "metadata": {
  "kernelspec": {
   "display_name": "MyEnvironment",
   "language": "python",
   "name": "python3"
  },
  "language_info": {
   "codemirror_mode": {
    "name": "ipython",
    "version": 3
   },
   "file_extension": ".py",
   "mimetype": "text/x-python",
   "name": "python",
   "nbconvert_exporter": "python",
   "pygments_lexer": "ipython3",
   "version": "3.11.11"
  }
 },
 "nbformat": 4,
 "nbformat_minor": 2
}
