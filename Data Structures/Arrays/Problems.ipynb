{
 "cells": [
  {
   "cell_type": "markdown",
   "id": "0de5d545",
   "metadata": {},
   "source": [
    "# Problems"
   ]
  },
  {
   "cell_type": "markdown",
   "id": "4243ec2f",
   "metadata": {},
   "source": [
    "## 1. An array consisting of integers is given as input. Write a program to cluster all odd numbers on the left and even elements on the right side."
   ]
  },
  {
   "cell_type": "code",
   "execution_count": 23,
   "id": "49f8f30b",
   "metadata": {},
   "outputs": [],
   "source": [
    "def oddleft_evenright(arr):\n",
    "    sol = []\n",
    "    \n",
    "    for num in arr:\n",
    "        if num % 2 != 0:\n",
    "            sol.append(num)\n",
    "    for num in arr:\n",
    "        if num % 2 == 0:\n",
    "            sol.append(num)\n",
    "            \n",
    "    return sol        "
   ]
  },
  {
   "cell_type": "code",
   "execution_count": 31,
   "id": "150bed2c",
   "metadata": {},
   "outputs": [
    {
     "data": {
      "text/plain": [
       "[1, 3, 5, 7, 9, 2, 4, 6, 8]"
      ]
     },
     "execution_count": 31,
     "metadata": {},
     "output_type": "execute_result"
    }
   ],
   "source": [
    "lista = [1, 2, 3, 4, 5, 6, 7, 8, 9]\n",
    "oddleft_evenright(lista)"
   ]
  },
  {
   "cell_type": "code",
   "execution_count": 42,
   "id": "c8a1e7d0",
   "metadata": {},
   "outputs": [],
   "source": [
    "''' \n",
    "Two - Pointer Approach \n",
    "Time Complexity : O(n)\n",
    "'''\n",
    "\n",
    "def oddleft_evenright2(arr):\n",
    "    left, right = 0, len(arr) - 1\n",
    "\n",
    "    while left < right:\n",
    "        while left < right and arr[left] % 2 != 0:  # Find first even from left\n",
    "            left += 1\n",
    "        while left < right and arr[right] % 2 == 0:  # Find first odd from right\n",
    "            right -= 1\n",
    "\n",
    "        if left < right:  # Swap once valid positions are found\n",
    "            arr[left], arr[right] = arr[right], arr[left]\n",
    "            left += 1\n",
    "            right -= 1  # Always update pointers\n",
    "\n",
    "    return arr"
   ]
  },
  {
   "cell_type": "code",
   "execution_count": 43,
   "id": "6760d6a6",
   "metadata": {},
   "outputs": [
    {
     "data": {
      "text/plain": [
       "[1, 9, 3, 7, 5, 6, 4, 8, 2]"
      ]
     },
     "execution_count": 43,
     "metadata": {},
     "output_type": "execute_result"
    }
   ],
   "source": [
    "lista = [1, 2, 3, 4, 5, 6, 7, 8, 9]\n",
    "oddleft_evenright2(lista)"
   ]
  },
  {
   "cell_type": "markdown",
   "id": "ff3ccb2d",
   "metadata": {},
   "source": [
    "## 2. If a set of numbers is given, some of which are positive and some of which are negative, how will you bring positive on the left and negative on the right side?"
   ]
  },
  {
   "cell_type": "code",
   "execution_count": 48,
   "id": "449a2178",
   "metadata": {},
   "outputs": [],
   "source": [
    "def positiveleft_negativeright(arr):\n",
    "    left, right = 0, len(arr) - 1\n",
    "\n",
    "    while left < right:\n",
    "        while left < right and arr[left] >= 0:  # Find first positive from left\n",
    "            left += 1\n",
    "        while left < right and arr[right] < 0:  # Find first negative from right\n",
    "            right -= 1\n",
    "\n",
    "        if left < right:  # Swap once valid positions are found\n",
    "            arr[left], arr[right] = arr[right], arr[left]\n",
    "            left += 1\n",
    "            right -= 1  # Always update pointers\n",
    "\n",
    "    return arr"
   ]
  },
  {
   "cell_type": "code",
   "execution_count": 49,
   "id": "86ba310c",
   "metadata": {},
   "outputs": [
    {
     "data": {
      "text/plain": [
       "[1, 2, 8, 7, 5, -6, -4, -3, -9]"
      ]
     },
     "execution_count": 49,
     "metadata": {},
     "output_type": "execute_result"
    }
   ],
   "source": [
    "lista = [1, 2, -3, -4, 5, -6, 7, 8, -9]\n",
    "positiveleft_negativeright(lista)"
   ]
  },
  {
   "cell_type": "markdown",
   "id": "32b9173c",
   "metadata": {},
   "source": [
    "## 3. If an array and a value are given, find all possible pairs of numbers in the array that sum to the given value."
   ]
  },
  {
   "cell_type": "code",
   "execution_count": 56,
   "id": "770e0a92",
   "metadata": {},
   "outputs": [],
   "source": [
    "def find_sum_pair(arr, target):\n",
    "    h = {}\n",
    "    for i, num in enumerate(arr):\n",
    "        h[num] = i\n",
    "        \n",
    "    for i, num in enumerate(arr):\n",
    "        desired = target - num\n",
    "        if desired in h and h[desired] != i:\n",
    "            #return i, h[desired] devuelve los indices\n",
    "            return num, desired\n",
    "    "
   ]
  },
  {
   "cell_type": "code",
   "execution_count": 57,
   "id": "94183d7d",
   "metadata": {},
   "outputs": [
    {
     "data": {
      "text/plain": [
       "(5, 6)"
      ]
     },
     "execution_count": 57,
     "metadata": {},
     "output_type": "execute_result"
    }
   ],
   "source": [
    "lista = [2, 5, 15, 6]\n",
    "find_sum_pair(lista, 11)"
   ]
  }
 ],
 "metadata": {
  "kernelspec": {
   "display_name": "MyEnvironment",
   "language": "python",
   "name": "python3"
  },
  "language_info": {
   "codemirror_mode": {
    "name": "ipython",
    "version": 3
   },
   "file_extension": ".py",
   "mimetype": "text/x-python",
   "name": "python",
   "nbconvert_exporter": "python",
   "pygments_lexer": "ipython3",
   "version": "3.11.11"
  }
 },
 "nbformat": 4,
 "nbformat_minor": 5
}
