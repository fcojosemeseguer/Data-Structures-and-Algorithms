{
 "cells": [
  {
   "cell_type": "markdown",
   "metadata": {},
   "source": [
    "# Linked List"
   ]
  },
  {
   "cell_type": "code",
   "execution_count": 1,
   "metadata": {},
   "outputs": [],
   "source": [
    "from linkedlist_ import LinkedList"
   ]
  },
  {
   "cell_type": "code",
   "execution_count": 2,
   "metadata": {},
   "outputs": [
    {
     "name": "stdout",
     "output_type": "stream",
     "text": [
      "List:\t 1 \n",
      "List:\t 2 1 3 \n",
      "List:\t 2 4 1 3 \n",
      "List:\t 4 1 3 \n",
      "List:\t 4 1 \n",
      "List:\t 4 \n"
     ]
    }
   ],
   "source": [
    "L = LinkedList(1)\n",
    "L.display()\n",
    "\n",
    "L.insert_beg(2)\n",
    "L.insert_end(3)\n",
    "L.display()\n",
    "\n",
    "L.insert_after(4, 2)\n",
    "L.display()\n",
    "\n",
    "L.del_first()\n",
    "L.display()\n",
    "L.del_after(1)\n",
    "L.display()\n",
    "L.del_end()\n",
    "L.display()\n",
    "\n"
   ]
  },
  {
   "cell_type": "markdown",
   "metadata": {},
   "source": [
    "# Doubly Linked List"
   ]
  },
  {
   "cell_type": "code",
   "execution_count": 3,
   "metadata": {},
   "outputs": [],
   "source": [
    "from doublylinkedlist_ import DoublyLinkedList"
   ]
  },
  {
   "cell_type": "code",
   "execution_count": 4,
   "metadata": {},
   "outputs": [
    {
     "name": "stdout",
     "output_type": "stream",
     "text": [
      "List:\t 1 \n",
      "List:\t 2 1 3 \n",
      "List:\t 2 4 1 3 \n",
      "List:\t 4 1 3 \n",
      "List:\t 4 1 \n",
      "List:\t 4 \n"
     ]
    }
   ],
   "source": [
    "D = DoublyLinkedList(1)\n",
    "D.display()\n",
    "\n",
    "D.insert_beg(2)\n",
    "D.insert_end(3)\n",
    "D.display()\n",
    "\n",
    "D.insert_after(4, 2)\n",
    "D.display()\n",
    "\n",
    "D.del_first()\n",
    "D.display()\n",
    "D.del_after(1)\n",
    "D.display()\n",
    "D.del_end()\n",
    "D.display()\n"
   ]
  },
  {
   "cell_type": "markdown",
   "metadata": {},
   "source": [
    "# Circular Linked List"
   ]
  },
  {
   "cell_type": "code",
   "execution_count": 5,
   "metadata": {},
   "outputs": [],
   "source": [
    "from circularlinkedlist_ import CircularLinkedList"
   ]
  },
  {
   "cell_type": "code",
   "execution_count": 6,
   "metadata": {},
   "outputs": [
    {
     "name": "stdout",
     "output_type": "stream",
     "text": [
      "10 -> 20 -> 30 -> Back to first :(10)\n"
     ]
    }
   ],
   "source": [
    "C = CircularLinkedList()\n",
    "C.insert_end(10)\n",
    "C.insert_end(20)\n",
    "C.insert_end(30)\n",
    "C.display() "
   ]
  },
  {
   "cell_type": "markdown",
   "metadata": {},
   "source": [
    "# Reversing Linked List"
   ]
  },
  {
   "cell_type": "code",
   "execution_count": 7,
   "metadata": {},
   "outputs": [],
   "source": [
    "from reversing_linkedlist import rev_list"
   ]
  },
  {
   "cell_type": "code",
   "execution_count": 8,
   "metadata": {},
   "outputs": [
    {
     "name": "stdout",
     "output_type": "stream",
     "text": [
      "List:\t 1 2 3 4 5 \n",
      "List:\t 5 4 3 2 1 \n"
     ]
    }
   ],
   "source": [
    "L = LinkedList(1)\n",
    "L.insert_end(2)\n",
    "L.insert_end(3)\n",
    "L.insert_end(4)\n",
    "L.insert_end(5)\n",
    "\n",
    "L.display()\n",
    "\n",
    "rev_list(L)\n",
    "\n",
    "L.display()"
   ]
  },
  {
   "cell_type": "markdown",
   "metadata": {},
   "source": [
    "# Check Cycle"
   ]
  },
  {
   "cell_type": "code",
   "execution_count": 9,
   "metadata": {},
   "outputs": [],
   "source": [
    "from check_cycle import check_cycle"
   ]
  },
  {
   "cell_type": "code",
   "execution_count": 12,
   "metadata": {},
   "outputs": [
    {
     "name": "stdout",
     "output_type": "stream",
     "text": [
      "Cycle detected\n",
      "True\n",
      "No Cycle\n",
      "False\n"
     ]
    }
   ],
   "source": [
    "C = CircularLinkedList()\n",
    "C.insert_end(10)\n",
    "C.insert_end(20)\n",
    "C.insert_end(30)\n",
    "\n",
    "L = LinkedList(1)\n",
    "L.insert_end(2)\n",
    "L.insert_end(3)\n",
    "L.insert_end(4)\n",
    "L.insert_end(5)\n",
    "\n",
    "\n",
    "\n",
    "print(check_cycle(C))\n",
    "print(check_cycle(L))"
   ]
  }
 ],
 "metadata": {
  "kernelspec": {
   "display_name": "MyEnvironment",
   "language": "python",
   "name": "python3"
  },
  "language_info": {
   "codemirror_mode": {
    "name": "ipython",
    "version": 3
   },
   "file_extension": ".py",
   "mimetype": "text/x-python",
   "name": "python",
   "nbconvert_exporter": "python",
   "pygments_lexer": "ipython3",
   "version": "3.11.11"
  }
 },
 "nbformat": 4,
 "nbformat_minor": 2
}
