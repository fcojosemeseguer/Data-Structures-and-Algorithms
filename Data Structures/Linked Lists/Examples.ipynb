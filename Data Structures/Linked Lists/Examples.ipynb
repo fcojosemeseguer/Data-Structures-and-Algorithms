{
 "cells": [
  {
   "cell_type": "markdown",
   "metadata": {},
   "source": [
    "# Linked List"
   ]
  },
  {
   "cell_type": "code",
   "execution_count": 1,
   "metadata": {},
   "outputs": [],
   "source": [
    "from linkedlist import LinkedList"
   ]
  },
  {
   "cell_type": "code",
   "execution_count": 2,
   "metadata": {},
   "outputs": [
    {
     "name": "stdout",
     "output_type": "stream",
     "text": [
      "List:\t 1 \n",
      "List:\t 2 1 3 \n",
      "List:\t 2 4 1 3 \n",
      "List:\t 4 1 3 \n",
      "List:\t 4 1 \n",
      "List:\t 4 \n"
     ]
    }
   ],
   "source": [
    "L = LinkedList(1)\n",
    "L.display()\n",
    "\n",
    "L.insert_beg(2)\n",
    "L.insert_end(3)\n",
    "L.display()\n",
    "\n",
    "L.insert_after(4, 2)\n",
    "L.display()\n",
    "\n",
    "L.del_first()\n",
    "L.display()\n",
    "L.del_after(1)\n",
    "L.display()\n",
    "L.del_end()\n",
    "L.display()\n",
    "\n"
   ]
  },
  {
   "cell_type": "markdown",
   "metadata": {},
   "source": [
    "# Doubly Linked List"
   ]
  },
  {
   "cell_type": "code",
   "execution_count": 3,
   "metadata": {},
   "outputs": [],
   "source": [
    "from doublylinkedlist import DoublyLinkedList"
   ]
  },
  {
   "cell_type": "code",
   "execution_count": 4,
   "metadata": {},
   "outputs": [
    {
     "name": "stdout",
     "output_type": "stream",
     "text": [
      "List:\t 1 \n",
      "List:\t 2 1 3 \n",
      "List:\t 2 4 1 3 \n",
      "List:\t 4 1 3 \n",
      "List:\t 4 1 \n",
      "List:\t 4 \n"
     ]
    }
   ],
   "source": [
    "D = DoublyLinkedList(1)\n",
    "D.display()\n",
    "\n",
    "D.insert_beg(2)\n",
    "D.insert_end(3)\n",
    "D.display()\n",
    "\n",
    "D.insert_after(4, 2)\n",
    "D.display()\n",
    "\n",
    "D.del_first()\n",
    "D.display()\n",
    "D.del_after(1)\n",
    "D.display()\n",
    "D.del_end()\n",
    "D.display()\n"
   ]
  }
 ],
 "metadata": {
  "kernelspec": {
   "display_name": "MyEnvironment",
   "language": "python",
   "name": "python3"
  },
  "language_info": {
   "codemirror_mode": {
    "name": "ipython",
    "version": 3
   },
   "file_extension": ".py",
   "mimetype": "text/x-python",
   "name": "python",
   "nbconvert_exporter": "python",
   "pygments_lexer": "ipython3",
   "version": "3.11.11"
  }
 },
 "nbformat": 4,
 "nbformat_minor": 2
}
